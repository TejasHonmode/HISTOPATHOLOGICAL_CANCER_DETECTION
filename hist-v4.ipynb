{
 "cells": [
  {
   "cell_type": "code",
   "execution_count": 1,
   "metadata": {
    "_cell_guid": "b1076dfc-b9ad-4769-8c92-a6c4dae69d19",
    "_uuid": "8f2839f25d086af736a60e9eeb907d3b93b6e0e5"
   },
   "outputs": [
    {
     "name": "stdout",
     "output_type": "stream",
     "text": [
      "['histopathologic-cancer-detection', 'mod-hist', 'resnet50']\n"
     ]
    }
   ],
   "source": [
    "# This Python 3 environment comes with many helpful analytics libraries installed\n",
    "# It is defined by the kaggle/python docker image: https://github.com/kaggle/docker-python\n",
    "# For example, here's several helpful packages to load in \n",
    "\n",
    "import numpy as np # linear algebra\n",
    "import pandas as pd # data processing, CSV file I/O (e.g. pd.read_csv)\n",
    "import cv2\n",
    "from sklearn.model_selection import train_test_split\n",
    "# Input data files are available in the \"../input/\" directory.\n",
    "# For example, running this (by clicking run or pressing Shift+Enter) will list the files in the input directory\n",
    "import glob\n",
    "import random\n",
    "import os\n",
    "import imgaug as ia\n",
    "import imgaug.augmenters as iaa\n",
    "import tensorflow as tf\n",
    "print(os.listdir(\"../input\"))\n",
    "\n",
    "# Any results you write to the current directory are saved as output."
   ]
  },
  {
   "cell_type": "code",
   "execution_count": 2,
   "metadata": {
    "_uuid": "d4307605c48c7f0a9970bddabc288117a2df357a"
   },
   "outputs": [],
   "source": []
  },
  {
   "cell_type": "code",
   "execution_count": 2,
   "metadata": {
    "_cell_guid": "79c7e3d0-c299-4dcb-8224-4455121ee9b0",
    "_uuid": "d629ff2d2480ee46fbb7e2d37f6b5fab8052498a"
   },
   "outputs": [],
   "source": [
    "df_train_paths = glob.glob('../input/histopathologic-cancer-detection/train/*.tif')\n",
    "df_test_paths = glob.glob('../input/histopathologic-cancer-detection/test/*.tif')"
   ]
  },
  {
   "cell_type": "code",
   "execution_count": 3,
   "metadata": {
    "_uuid": "e7c58218a9d12763529f00a90fb6b8810cd0c827"
   },
   "outputs": [
    {
     "data": {
      "text/plain": [
       "['../input/histopathologic-cancer-detection/train/f46f19fc90347d350431da5bfcf955d9c1418b43.tif',\n",
       " '../input/histopathologic-cancer-detection/train/330c56d7a3a1a808d711386c136b874a87081526.tif',\n",
       " '../input/histopathologic-cancer-detection/train/b7b8babd812d5edbad7dd9b155ee29fbede4ab81.tif',\n",
       " '../input/histopathologic-cancer-detection/train/cc55f29b2a76a534585598d48d8f9725abc4cd70.tif',\n",
       " '../input/histopathologic-cancer-detection/train/fd6d67cd86a03e3ce6baaa34965c1b5f544efe27.tif']"
      ]
     },
     "execution_count": 3,
     "metadata": {},
     "output_type": "execute_result"
    }
   ],
   "source": [
    "df_train_paths[:5]"
   ]
  },
  {
   "cell_type": "code",
   "execution_count": 4,
   "metadata": {
    "_uuid": "915281b846a8106955eb8cfbb9c667821676c088"
   },
   "outputs": [
    {
     "data": {
      "text/plain": [
       "['../input/histopathologic-cancer-detection/test/485b548a7ee70df49fe7cab6d7062fb8d8f172aa.tif',\n",
       " '../input/histopathologic-cancer-detection/test/0a13be637bd66856953494747e1a56e11e394acc.tif',\n",
       " '../input/histopathologic-cancer-detection/test/1d19c0a74340c60c31b677a0032e710886645bc6.tif',\n",
       " '../input/histopathologic-cancer-detection/test/f45110c8ce329fc4292c2dfb93f1bc73b31d0919.tif',\n",
       " '../input/histopathologic-cancer-detection/test/e07ddd315e3037431689b18b3631c756a7220102.tif']"
      ]
     },
     "execution_count": 4,
     "metadata": {},
     "output_type": "execute_result"
    }
   ],
   "source": [
    "df_test_paths[:5]"
   ]
  },
  {
   "cell_type": "code",
   "execution_count": 5,
   "metadata": {
    "_uuid": "10dc13a3266785ce664da665fda39e41e5ee67c7"
   },
   "outputs": [],
   "source": [
    "df = pd.read_csv('../input/histopathologic-cancer-detection/train_labels.csv')"
   ]
  },
  {
   "cell_type": "code",
   "execution_count": 6,
   "metadata": {
    "_uuid": "0ddba607e2307c6117e154820378ac44982f36a8"
   },
   "outputs": [
    {
     "data": {
      "text/html": [
       "<div>\n",
       "<style scoped>\n",
       "    .dataframe tbody tr th:only-of-type {\n",
       "        vertical-align: middle;\n",
       "    }\n",
       "\n",
       "    .dataframe tbody tr th {\n",
       "        vertical-align: top;\n",
       "    }\n",
       "\n",
       "    .dataframe thead th {\n",
       "        text-align: right;\n",
       "    }\n",
       "</style>\n",
       "<table border=\"1\" class=\"dataframe\">\n",
       "  <thead>\n",
       "    <tr style=\"text-align: right;\">\n",
       "      <th></th>\n",
       "      <th>id</th>\n",
       "      <th>label</th>\n",
       "    </tr>\n",
       "  </thead>\n",
       "  <tbody>\n",
       "    <tr>\n",
       "      <th>0</th>\n",
       "      <td>f38a6374c348f90b587e046aac6079959adf3835</td>\n",
       "      <td>0</td>\n",
       "    </tr>\n",
       "    <tr>\n",
       "      <th>1</th>\n",
       "      <td>c18f2d887b7ae4f6742ee445113fa1aef383ed77</td>\n",
       "      <td>1</td>\n",
       "    </tr>\n",
       "    <tr>\n",
       "      <th>2</th>\n",
       "      <td>755db6279dae599ebb4d39a9123cce439965282d</td>\n",
       "      <td>0</td>\n",
       "    </tr>\n",
       "    <tr>\n",
       "      <th>3</th>\n",
       "      <td>bc3f0c64fb968ff4a8bd33af6971ecae77c75e08</td>\n",
       "      <td>0</td>\n",
       "    </tr>\n",
       "    <tr>\n",
       "      <th>4</th>\n",
       "      <td>068aba587a4950175d04c680d38943fd488d6a9d</td>\n",
       "      <td>0</td>\n",
       "    </tr>\n",
       "  </tbody>\n",
       "</table>\n",
       "</div>"
      ],
      "text/plain": [
       "                                         id  label\n",
       "0  f38a6374c348f90b587e046aac6079959adf3835      0\n",
       "1  c18f2d887b7ae4f6742ee445113fa1aef383ed77      1\n",
       "2  755db6279dae599ebb4d39a9123cce439965282d      0\n",
       "3  bc3f0c64fb968ff4a8bd33af6971ecae77c75e08      0\n",
       "4  068aba587a4950175d04c680d38943fd488d6a9d      0"
      ]
     },
     "execution_count": 6,
     "metadata": {},
     "output_type": "execute_result"
    }
   ],
   "source": [
    "df.head()"
   ]
  },
  {
   "cell_type": "code",
   "execution_count": 7,
   "metadata": {
    "_uuid": "7f1d734a9eb4d35ad48700af3329747246e422cb"
   },
   "outputs": [],
   "source": [
    "id_label_mapping = {k:v for k,v in zip(df.id.values,df.label.values)} "
   ]
  },
  {
   "cell_type": "code",
   "execution_count": 8,
   "metadata": {
    "_uuid": "7fe6ecddfd82c72edfe4e3b410256e26237345dd"
   },
   "outputs": [],
   "source": [
    "# df_main = pd.DataFrame({'img_path':df_train_paths})"
   ]
  },
  {
   "cell_type": "code",
   "execution_count": 9,
   "metadata": {
    "_uuid": "3335d43c48765120dc9115b38dab4742adbae6b9"
   },
   "outputs": [],
   "source": []
  },
  {
   "cell_type": "code",
   "execution_count": 9,
   "metadata": {
    "_uuid": "be5d96f264fe00459883acca18d0831c90f7cce5"
   },
   "outputs": [],
   "source": []
  },
  {
   "cell_type": "code",
   "execution_count": 9,
   "metadata": {
    "_uuid": "c1b8dc312c843718115fd44c0eacc41d11992d67"
   },
   "outputs": [],
   "source": []
  },
  {
   "cell_type": "code",
   "execution_count": 9,
   "metadata": {
    "_uuid": "0e24a8b544aa427d02dc804b88bdaf6d625d1d1b"
   },
   "outputs": [],
   "source": [
    "def get_batch(img_data, batch_size):\n",
    "    return [img_data[i:i+batch_size] for i in range(0,len(img_data),batch_size)]"
   ]
  },
  {
   "cell_type": "code",
   "execution_count": 10,
   "metadata": {
    "_uuid": "40f168d59e8198c429205c33b8653a6f5fc5d640"
   },
   "outputs": [],
   "source": [
    "def get_id_from_path(img_path):\n",
    "    return img_path.split('/')[-1].replace('.tif','')"
   ]
  },
  {
   "cell_type": "code",
   "execution_count": 11,
   "metadata": {
    "_uuid": "6a96be36ea371a6173bb34d05f6fcbf381e1ba5d"
   },
   "outputs": [],
   "source": [
    "def get_label():\n",
    "    return id_label_mapping[get_id_from_path(img_path)]"
   ]
  },
  {
   "cell_type": "code",
   "execution_count": 12,
   "metadata": {
    "_uuid": "b72b7b641d535b3207c3e83d8ee8e5f4bd313ebf"
   },
   "outputs": [],
   "source": [
    "# df_main['id'] = df_main['img_path'].apply(get_id_from_path)"
   ]
  },
  {
   "cell_type": "code",
   "execution_count": 13,
   "metadata": {
    "_uuid": "f3d9b6c3b6fc11ee018aa1d8c8210bf820283fa7"
   },
   "outputs": [],
   "source": [
    "# df = df.merge(df_main,on='id')"
   ]
  },
  {
   "cell_type": "code",
   "execution_count": 14,
   "metadata": {
    "_uuid": "1b27fc42ee88de89261776dfa098f93943b1fe0f"
   },
   "outputs": [
    {
     "data": {
      "text/html": [
       "<div>\n",
       "<style scoped>\n",
       "    .dataframe tbody tr th:only-of-type {\n",
       "        vertical-align: middle;\n",
       "    }\n",
       "\n",
       "    .dataframe tbody tr th {\n",
       "        vertical-align: top;\n",
       "    }\n",
       "\n",
       "    .dataframe thead th {\n",
       "        text-align: right;\n",
       "    }\n",
       "</style>\n",
       "<table border=\"1\" class=\"dataframe\">\n",
       "  <thead>\n",
       "    <tr style=\"text-align: right;\">\n",
       "      <th></th>\n",
       "      <th>id</th>\n",
       "      <th>label</th>\n",
       "    </tr>\n",
       "  </thead>\n",
       "  <tbody>\n",
       "    <tr>\n",
       "      <th>0</th>\n",
       "      <td>f38a6374c348f90b587e046aac6079959adf3835</td>\n",
       "      <td>0</td>\n",
       "    </tr>\n",
       "    <tr>\n",
       "      <th>1</th>\n",
       "      <td>c18f2d887b7ae4f6742ee445113fa1aef383ed77</td>\n",
       "      <td>1</td>\n",
       "    </tr>\n",
       "    <tr>\n",
       "      <th>2</th>\n",
       "      <td>755db6279dae599ebb4d39a9123cce439965282d</td>\n",
       "      <td>0</td>\n",
       "    </tr>\n",
       "    <tr>\n",
       "      <th>3</th>\n",
       "      <td>bc3f0c64fb968ff4a8bd33af6971ecae77c75e08</td>\n",
       "      <td>0</td>\n",
       "    </tr>\n",
       "    <tr>\n",
       "      <th>4</th>\n",
       "      <td>068aba587a4950175d04c680d38943fd488d6a9d</td>\n",
       "      <td>0</td>\n",
       "    </tr>\n",
       "  </tbody>\n",
       "</table>\n",
       "</div>"
      ],
      "text/plain": [
       "                                         id  label\n",
       "0  f38a6374c348f90b587e046aac6079959adf3835      0\n",
       "1  c18f2d887b7ae4f6742ee445113fa1aef383ed77      1\n",
       "2  755db6279dae599ebb4d39a9123cce439965282d      0\n",
       "3  bc3f0c64fb968ff4a8bd33af6971ecae77c75e08      0\n",
       "4  068aba587a4950175d04c680d38943fd488d6a9d      0"
      ]
     },
     "execution_count": 14,
     "metadata": {},
     "output_type": "execute_result"
    }
   ],
   "source": [
    "df.head()"
   ]
  },
  {
   "cell_type": "code",
   "execution_count": 15,
   "metadata": {
    "_uuid": "78d7e9f7982f6c416e700fdd148743825a84b848"
   },
   "outputs": [],
   "source": [
    "# df0 = df[df['label'] == 0].sample(50000,random_state=42)\n",
    "# df1 = df[df['label'] == 1].sample(50000,random_state=42)"
   ]
  },
  {
   "cell_type": "code",
   "execution_count": 16,
   "metadata": {
    "_uuid": "3a56fc5ed6b0ce572759706a576234fa7e80a811"
   },
   "outputs": [],
   "source": [
    "# df = pd.concat([df0,df1], ignore_index=True)"
   ]
  },
  {
   "cell_type": "code",
   "execution_count": 17,
   "metadata": {
    "_uuid": "9b6abe7189253d541cd481f03e3e63b17263ccd8"
   },
   "outputs": [
    {
     "data": {
      "text/html": [
       "<div>\n",
       "<style scoped>\n",
       "    .dataframe tbody tr th:only-of-type {\n",
       "        vertical-align: middle;\n",
       "    }\n",
       "\n",
       "    .dataframe tbody tr th {\n",
       "        vertical-align: top;\n",
       "    }\n",
       "\n",
       "    .dataframe thead th {\n",
       "        text-align: right;\n",
       "    }\n",
       "</style>\n",
       "<table border=\"1\" class=\"dataframe\">\n",
       "  <thead>\n",
       "    <tr style=\"text-align: right;\">\n",
       "      <th></th>\n",
       "      <th>id</th>\n",
       "      <th>label</th>\n",
       "    </tr>\n",
       "  </thead>\n",
       "  <tbody>\n",
       "    <tr>\n",
       "      <th>0</th>\n",
       "      <td>f38a6374c348f90b587e046aac6079959adf3835</td>\n",
       "      <td>0</td>\n",
       "    </tr>\n",
       "    <tr>\n",
       "      <th>1</th>\n",
       "      <td>c18f2d887b7ae4f6742ee445113fa1aef383ed77</td>\n",
       "      <td>1</td>\n",
       "    </tr>\n",
       "    <tr>\n",
       "      <th>2</th>\n",
       "      <td>755db6279dae599ebb4d39a9123cce439965282d</td>\n",
       "      <td>0</td>\n",
       "    </tr>\n",
       "    <tr>\n",
       "      <th>3</th>\n",
       "      <td>bc3f0c64fb968ff4a8bd33af6971ecae77c75e08</td>\n",
       "      <td>0</td>\n",
       "    </tr>\n",
       "    <tr>\n",
       "      <th>4</th>\n",
       "      <td>068aba587a4950175d04c680d38943fd488d6a9d</td>\n",
       "      <td>0</td>\n",
       "    </tr>\n",
       "  </tbody>\n",
       "</table>\n",
       "</div>"
      ],
      "text/plain": [
       "                                         id  label\n",
       "0  f38a6374c348f90b587e046aac6079959adf3835      0\n",
       "1  c18f2d887b7ae4f6742ee445113fa1aef383ed77      1\n",
       "2  755db6279dae599ebb4d39a9123cce439965282d      0\n",
       "3  bc3f0c64fb968ff4a8bd33af6971ecae77c75e08      0\n",
       "4  068aba587a4950175d04c680d38943fd488d6a9d      0"
      ]
     },
     "execution_count": 17,
     "metadata": {},
     "output_type": "execute_result"
    }
   ],
   "source": [
    "df.head()"
   ]
  },
  {
   "cell_type": "code",
   "execution_count": 18,
   "metadata": {
    "_uuid": "a10304bf064692aa3502f2ec3c77646ee975e6a6"
   },
   "outputs": [],
   "source": [
    "df_gen_train, df_gen_val = train_test_split(df_train_paths, test_size=0.25, random_state=42)"
   ]
  },
  {
   "cell_type": "code",
   "execution_count": 19,
   "metadata": {
    "_uuid": "bb896863295dfc20cea04e4fa46b689569476ab4"
   },
   "outputs": [],
   "source": [
    "# df_gen_val.label.value_counts()"
   ]
  },
  {
   "cell_type": "code",
   "execution_count": 20,
   "metadata": {
    "_uuid": "ea8222fb07c28493df8604327cb9c477090ae89f"
   },
   "outputs": [],
   "source": [
    "# df_gen_train_imgs = [cv2.imread(img_path) for img_path in list(df_gen_train['img_path'])]\n",
    "# df_gen_val_imgs = [cv2.imread(img_path) for img_path in list(df_gen_val['img_path'])]"
   ]
  },
  {
   "cell_type": "code",
   "execution_count": 21,
   "metadata": {
    "_uuid": "1ffe9262a1e68ca688c8d61fde229bb852be19ab"
   },
   "outputs": [],
   "source": [
    "# df_gen_train_imgs = np.array(df_gen_train_imgs)\n",
    "# df_gen_val_imgs = np.array(df_gen_val_imgs)"
   ]
  },
  {
   "cell_type": "code",
   "execution_count": 22,
   "metadata": {
    "_uuid": "a88c0a01671b1c989b8fcefef8c023ada986cc11"
   },
   "outputs": [],
   "source": [
    "ia.seed(1)\n",
    "\n",
    "# Sometimes(0.5, ...) applies the given augmenter in 50% of all cases,\n",
    "# e.g. Sometimes(0.5, GaussianBlur(0.3)) would blur roughly every second\n",
    "# image.\n",
    "sometimes = lambda aug: iaa.Sometimes(0.5, aug)\n",
    "def get_seq():\n",
    "    # Define our sequence of augmentation steps that will be applied to every image.\n",
    "    seq = iaa.Sequential([\n",
    "        iaa.Fliplr(0.5), #horizontally flip 50% images\n",
    "        iaa.Flipud(0.2), #vertically flip 20% images\n",
    "        \n",
    "        # crop some of the images by 0-10% of their height/width\n",
    "        sometimes(iaa.Crop(percent=(0,0.1))),\n",
    "        \n",
    "        # Apply affine transformations to some of the images\n",
    "        # - scale to 80-120% of image height/width (each axis independently)\n",
    "        # - translate by -20 to +20 relative to height/width (per axis)\n",
    "        # - rotate by -45 to +45 degrees\n",
    "        # - shear by -16 to +16 degrees\n",
    "        # - order: use nearest neighbour or bilinear interpolation (fast)\n",
    "        # - mode: use any available mode to fill newly created pixels\n",
    "        #         see API or scikit-image for which modes are available\n",
    "        # - cval: if the mode is constant, then use a random brightness\n",
    "        #         for the newly created pixels (e.g. sometimes black,\n",
    "        #         sometimes white)\n",
    "        sometimes(iaa.Affine(\n",
    "            scale = {\"x\":(0.8,1.2), \"y\":(0.8,1.2)},\n",
    "            translate_percent = {\"x\":(-0.2,0.2), \"y\":(-0.2,0.2)},\n",
    "            rotate = (-45,45),\n",
    "            shear = (-16,16),\n",
    "            order = [0,1],\n",
    "            cval = (0,255),\n",
    "            mode = ia.ALL\n",
    "        )),\n",
    "        \n",
    "        #\n",
    "        # Execute 0 to 5 of the following (less important) augmenters per\n",
    "        # image. Don't execute all of them, as that would often be way too\n",
    "        # strong.\n",
    "        #\n",
    "        iaa.SomeOf((0,5),\n",
    "                   [\n",
    "                       # Convert some images into their superpixel representation,\n",
    "                       # sample between 20 and 200 superpixels per image, but do\n",
    "                       # not replace all superpixels with their average, only\n",
    "                       # some of them (p_replace).\n",
    "                       sometimes(\n",
    "                           iaa.Superpixels(\n",
    "                           p_replace = (0, 1.0),\n",
    "                           n_segments = (20, 200)\n",
    "                           )\n",
    "                       ),\n",
    "                       \n",
    "                       # Blur each image with varying strength using\n",
    "                       # gaussian blur (sigma between 0 and 3.0),\n",
    "                       # average/uniform blur (kernel size between 2x2 and 7x7)\n",
    "                       # median blur (kernel size between 3x3 and 11x11).\n",
    "                       iaa.OneOf([\n",
    "                           iaa.GaussianBlur((0,3.0)),\n",
    "                           iaa.AverageBlur(k=(2,6)),\n",
    "                           iaa.MedianBlur(k=(3,7))\n",
    "                       ]),\n",
    "                       \n",
    "                       # Sharpen each image, overlay the result with the original\n",
    "                       # image using an alpha between 0 (no sharpening) and 1\n",
    "                       # (full sharpening effect).\n",
    "                       iaa.Sharpen(alpha=(0,1.0), lightness = (0.75, 1.5)),\n",
    "                       \n",
    "                       # Same as sharpen, but for an embossing effect.\n",
    "                       iaa.Emboss(alpha=(0,1.0), strength=(0,2.0)),\n",
    "                       \n",
    "                       # Search in some images either for all edges or for\n",
    "                       # directed edges. These edges are then marked in a black\n",
    "                       # and white image and overlayed with the original image\n",
    "                       # using an alpha of 0 to 0.7.\n",
    "                       sometimes(iaa.OneOf([\n",
    "                           iaa.EdgeDetect(alpha = (0,0.7)),\n",
    "                           iaa.DirectedEdgeDetect(alpha=(0,0.7), direction=(0.0,1.0))\n",
    "                       ])),\n",
    "                       \n",
    "                       # Add gaussian noise to some images.\n",
    "                       # In 50% of these cases, the noise is randomly sampled per\n",
    "                       # channel and pixel.\n",
    "                       # In the other 50% of all cases it is sampled once per\n",
    "                       # pixel (i.e. brightness change).\n",
    "                       iaa.AdditiveGaussianNoise(loc=0,scale=(0.0,0.05*255),per_channel=0.5),\n",
    "\n",
    "                       # Either drop randomly 1 to 10% of all pixels (i.e. set\n",
    "                       # them to black) or drop them on an image with 2-5% percent\n",
    "                       # of the original size, leading to large dropped\n",
    "                       # rectangles.\n",
    "                       iaa.OneOf([\n",
    "                           iaa.Dropout((0.01, 0.1),per_channel=0.5),\n",
    "                           iaa.CoarseDropout((0.03,0.15),size_percent=(0.02,0.05), per_channel=0.2)\n",
    "                       ]),\n",
    "                       \n",
    "                       # Invert each image's chanell with 5% probability.\n",
    "                       # This sets each pixel value v to 255-v.\n",
    "                       iaa.Invert(0.05, per_channel=True), #Invert colour channels\n",
    "                       \n",
    "                       # Add a value of -10 to 10 to each pixel.\n",
    "                       iaa.Add((-10,10), per_channel=0.5),\n",
    "                       \n",
    "                       # Change brightness of images (50-150% of original value).\n",
    "                       iaa.Multiply((0.5,1.5), per_channel=0.5),\n",
    "                       \n",
    "                       # Improve or worsen the contrast of images.\n",
    "                       iaa.ContrastNormalization((0.5,2.0),per_channel=0.5),\n",
    "                       \n",
    "                       # Convert each image to grayscale and then overlay the\n",
    "                       # result with the original with random alpha. I.e. remove\n",
    "                       # colors with varying strengths.\n",
    "                       iaa.Grayscale(alpha=(0.0,1.0)),\n",
    "                       \n",
    "                       # In some images move pixels locally around (with random\n",
    "                       # strengths).\n",
    "                       sometimes(iaa.ElasticTransformation(alpha=(0.5,3.5),sigma=0.25)),\n",
    "                       \n",
    "                       # In some images distort local areas with varying strength.\n",
    "                       sometimes(iaa.PiecewiseAffine(scale=(0.01,0.05)))\n",
    "                   ],\n",
    "                   #do all the above augmentations in random order\n",
    "                   random_order = True\n",
    "                  )\n",
    "            ],\n",
    "            random_order = True\n",
    "        )\n",
    "    return seq"
   ]
  },
  {
   "cell_type": "code",
   "execution_count": 23,
   "metadata": {
    "_uuid": "90df46640cdb88d3f088b004c6d9df2bcf1d8c33"
   },
   "outputs": [],
   "source": [
    "def data_gen(img_data, id_label_mapping, batch_size, augment=False):\n",
    "    seq = get_seq()\n",
    "    while True:\n",
    "        random.shuffle(img_data)\n",
    "        for batch in get_batch(img_data,batch_size):\n",
    "            imgs = [cv2.imread(img_path) for img_path in batch]\n",
    "            y = [id_label_mapping[get_id_from_path(img_path)] for img_path in batch]\n",
    "            #imgs = [cv2.resize(img,(224,224)) for img in imgs]\n",
    "            if augment == True:\n",
    "                imgs = seq.augment_images(imgs)\n",
    "            \n",
    "            imgs = [preprocess_input(img) for img in imgs]\n",
    "            yield np.array(imgs), np.array(y)"
   ]
  },
  {
   "cell_type": "code",
   "execution_count": 24,
   "metadata": {
    "_uuid": "1bdbd4b6886ee59590403e9a949442beda8f8fd5"
   },
   "outputs": [
    {
     "name": "stderr",
     "output_type": "stream",
     "text": [
      "Using TensorFlow backend.\n"
     ]
    }
   ],
   "source": [
    "from keras.layers import Conv2D, MaxPooling2D, GlobalAveragePooling2D, GlobalMaxPooling2D, BatchNormalization\n",
    "from keras.layers import Dropout, Flatten, Dense, Dropout, Input, Concatenate\n",
    "from keras.callbacks import *\n",
    "from keras.models import Sequential, Model\n",
    "from tensorflow import set_random_seed\n",
    "from keras.applications.resnet50 import ResNet50\n",
    "from keras.applications.resnet50 import preprocess_input\n",
    "from keras.optimizers import *"
   ]
  },
  {
   "cell_type": "code",
   "execution_count": 25,
   "metadata": {
    "_uuid": "bb9d00d3b9ac1cb8a5e4a37f58da7868e4aaa9eb"
   },
   "outputs": [
    {
     "name": "stderr",
     "output_type": "stream",
     "text": [
      "/opt/conda/lib/python3.6/site-packages/keras_applications/resnet50.py:265: UserWarning: The output shape of `ResNet50(include_top=False)` has been changed since Keras 2.2.0.\n",
      "  warnings.warn('The output shape of `ResNet50(include_top=False)` '\n"
     ]
    },
    {
     "name": "stdout",
     "output_type": "stream",
     "text": [
      "Downloading data from https://github.com/fchollet/deep-learning-models/releases/download/v0.2/resnet50_weights_tf_dim_ordering_tf_kernels_notop.h5\n",
      "94658560/94653016 [==============================] - 1s 0us/step\n"
     ]
    }
   ],
   "source": [
    "base_model = ResNet50(weights='imagenet',include_top=False,input_shape=(96,96,3))"
   ]
  },
  {
   "cell_type": "code",
   "execution_count": 26,
   "metadata": {
    "_uuid": "30a7e9073d29474ffabec9eb6afc6c0db5d68cad"
   },
   "outputs": [
    {
     "name": "stdout",
     "output_type": "stream",
     "text": [
      "__________________________________________________________________________________________________\n",
      "Layer (type)                    Output Shape         Param #     Connected to                     \n",
      "==================================================================================================\n",
      "input_1 (InputLayer)            (None, 96, 96, 3)    0                                            \n",
      "__________________________________________________________________________________________________\n",
      "conv1_pad (ZeroPadding2D)       (None, 102, 102, 3)  0           input_1[0][0]                    \n",
      "__________________________________________________________________________________________________\n",
      "conv1 (Conv2D)                  (None, 48, 48, 64)   9472        conv1_pad[0][0]                  \n",
      "__________________________________________________________________________________________________\n",
      "bn_conv1 (BatchNormalization)   (None, 48, 48, 64)   256         conv1[0][0]                      \n",
      "__________________________________________________________________________________________________\n",
      "activation_1 (Activation)       (None, 48, 48, 64)   0           bn_conv1[0][0]                   \n",
      "__________________________________________________________________________________________________\n",
      "pool1_pad (ZeroPadding2D)       (None, 50, 50, 64)   0           activation_1[0][0]               \n",
      "__________________________________________________________________________________________________\n",
      "max_pooling2d_1 (MaxPooling2D)  (None, 24, 24, 64)   0           pool1_pad[0][0]                  \n",
      "__________________________________________________________________________________________________\n",
      "res2a_branch2a (Conv2D)         (None, 24, 24, 64)   4160        max_pooling2d_1[0][0]            \n",
      "__________________________________________________________________________________________________\n",
      "bn2a_branch2a (BatchNormalizati (None, 24, 24, 64)   256         res2a_branch2a[0][0]             \n",
      "__________________________________________________________________________________________________\n",
      "activation_2 (Activation)       (None, 24, 24, 64)   0           bn2a_branch2a[0][0]              \n",
      "__________________________________________________________________________________________________\n",
      "res2a_branch2b (Conv2D)         (None, 24, 24, 64)   36928       activation_2[0][0]               \n",
      "__________________________________________________________________________________________________\n",
      "bn2a_branch2b (BatchNormalizati (None, 24, 24, 64)   256         res2a_branch2b[0][0]             \n",
      "__________________________________________________________________________________________________\n",
      "activation_3 (Activation)       (None, 24, 24, 64)   0           bn2a_branch2b[0][0]              \n",
      "__________________________________________________________________________________________________\n",
      "res2a_branch2c (Conv2D)         (None, 24, 24, 256)  16640       activation_3[0][0]               \n",
      "__________________________________________________________________________________________________\n",
      "res2a_branch1 (Conv2D)          (None, 24, 24, 256)  16640       max_pooling2d_1[0][0]            \n",
      "__________________________________________________________________________________________________\n",
      "bn2a_branch2c (BatchNormalizati (None, 24, 24, 256)  1024        res2a_branch2c[0][0]             \n",
      "__________________________________________________________________________________________________\n",
      "bn2a_branch1 (BatchNormalizatio (None, 24, 24, 256)  1024        res2a_branch1[0][0]              \n",
      "__________________________________________________________________________________________________\n",
      "add_1 (Add)                     (None, 24, 24, 256)  0           bn2a_branch2c[0][0]              \n",
      "                                                                 bn2a_branch1[0][0]               \n",
      "__________________________________________________________________________________________________\n",
      "activation_4 (Activation)       (None, 24, 24, 256)  0           add_1[0][0]                      \n",
      "__________________________________________________________________________________________________\n",
      "res2b_branch2a (Conv2D)         (None, 24, 24, 64)   16448       activation_4[0][0]               \n",
      "__________________________________________________________________________________________________\n",
      "bn2b_branch2a (BatchNormalizati (None, 24, 24, 64)   256         res2b_branch2a[0][0]             \n",
      "__________________________________________________________________________________________________\n",
      "activation_5 (Activation)       (None, 24, 24, 64)   0           bn2b_branch2a[0][0]              \n",
      "__________________________________________________________________________________________________\n",
      "res2b_branch2b (Conv2D)         (None, 24, 24, 64)   36928       activation_5[0][0]               \n",
      "__________________________________________________________________________________________________\n",
      "bn2b_branch2b (BatchNormalizati (None, 24, 24, 64)   256         res2b_branch2b[0][0]             \n",
      "__________________________________________________________________________________________________\n",
      "activation_6 (Activation)       (None, 24, 24, 64)   0           bn2b_branch2b[0][0]              \n",
      "__________________________________________________________________________________________________\n",
      "res2b_branch2c (Conv2D)         (None, 24, 24, 256)  16640       activation_6[0][0]               \n",
      "__________________________________________________________________________________________________\n",
      "bn2b_branch2c (BatchNormalizati (None, 24, 24, 256)  1024        res2b_branch2c[0][0]             \n",
      "__________________________________________________________________________________________________\n",
      "add_2 (Add)                     (None, 24, 24, 256)  0           bn2b_branch2c[0][0]              \n",
      "                                                                 activation_4[0][0]               \n",
      "__________________________________________________________________________________________________\n",
      "activation_7 (Activation)       (None, 24, 24, 256)  0           add_2[0][0]                      \n",
      "__________________________________________________________________________________________________\n",
      "res2c_branch2a (Conv2D)         (None, 24, 24, 64)   16448       activation_7[0][0]               \n",
      "__________________________________________________________________________________________________\n",
      "bn2c_branch2a (BatchNormalizati (None, 24, 24, 64)   256         res2c_branch2a[0][0]             \n",
      "__________________________________________________________________________________________________\n",
      "activation_8 (Activation)       (None, 24, 24, 64)   0           bn2c_branch2a[0][0]              \n",
      "__________________________________________________________________________________________________\n",
      "res2c_branch2b (Conv2D)         (None, 24, 24, 64)   36928       activation_8[0][0]               \n",
      "__________________________________________________________________________________________________\n",
      "bn2c_branch2b (BatchNormalizati (None, 24, 24, 64)   256         res2c_branch2b[0][0]             \n",
      "__________________________________________________________________________________________________\n",
      "activation_9 (Activation)       (None, 24, 24, 64)   0           bn2c_branch2b[0][0]              \n",
      "__________________________________________________________________________________________________\n",
      "res2c_branch2c (Conv2D)         (None, 24, 24, 256)  16640       activation_9[0][0]               \n",
      "__________________________________________________________________________________________________\n",
      "bn2c_branch2c (BatchNormalizati (None, 24, 24, 256)  1024        res2c_branch2c[0][0]             \n",
      "__________________________________________________________________________________________________\n",
      "add_3 (Add)                     (None, 24, 24, 256)  0           bn2c_branch2c[0][0]              \n",
      "                                                                 activation_7[0][0]               \n",
      "__________________________________________________________________________________________________\n",
      "activation_10 (Activation)      (None, 24, 24, 256)  0           add_3[0][0]                      \n",
      "__________________________________________________________________________________________________\n",
      "res3a_branch2a (Conv2D)         (None, 12, 12, 128)  32896       activation_10[0][0]              \n",
      "__________________________________________________________________________________________________\n",
      "bn3a_branch2a (BatchNormalizati (None, 12, 12, 128)  512         res3a_branch2a[0][0]             \n",
      "__________________________________________________________________________________________________\n",
      "activation_11 (Activation)      (None, 12, 12, 128)  0           bn3a_branch2a[0][0]              \n",
      "__________________________________________________________________________________________________\n",
      "res3a_branch2b (Conv2D)         (None, 12, 12, 128)  147584      activation_11[0][0]              \n",
      "__________________________________________________________________________________________________\n",
      "bn3a_branch2b (BatchNormalizati (None, 12, 12, 128)  512         res3a_branch2b[0][0]             \n",
      "__________________________________________________________________________________________________\n",
      "activation_12 (Activation)      (None, 12, 12, 128)  0           bn3a_branch2b[0][0]              \n",
      "__________________________________________________________________________________________________\n",
      "res3a_branch2c (Conv2D)         (None, 12, 12, 512)  66048       activation_12[0][0]              \n",
      "__________________________________________________________________________________________________\n",
      "res3a_branch1 (Conv2D)          (None, 12, 12, 512)  131584      activation_10[0][0]              \n",
      "__________________________________________________________________________________________________\n",
      "bn3a_branch2c (BatchNormalizati (None, 12, 12, 512)  2048        res3a_branch2c[0][0]             \n",
      "__________________________________________________________________________________________________\n",
      "bn3a_branch1 (BatchNormalizatio (None, 12, 12, 512)  2048        res3a_branch1[0][0]              \n",
      "__________________________________________________________________________________________________\n",
      "add_4 (Add)                     (None, 12, 12, 512)  0           bn3a_branch2c[0][0]              \n",
      "                                                                 bn3a_branch1[0][0]               \n",
      "__________________________________________________________________________________________________\n",
      "activation_13 (Activation)      (None, 12, 12, 512)  0           add_4[0][0]                      \n",
      "__________________________________________________________________________________________________\n",
      "res3b_branch2a (Conv2D)         (None, 12, 12, 128)  65664       activation_13[0][0]              \n",
      "__________________________________________________________________________________________________\n",
      "bn3b_branch2a (BatchNormalizati (None, 12, 12, 128)  512         res3b_branch2a[0][0]             \n",
      "__________________________________________________________________________________________________\n",
      "activation_14 (Activation)      (None, 12, 12, 128)  0           bn3b_branch2a[0][0]              \n",
      "__________________________________________________________________________________________________\n",
      "res3b_branch2b (Conv2D)         (None, 12, 12, 128)  147584      activation_14[0][0]              \n",
      "__________________________________________________________________________________________________\n",
      "bn3b_branch2b (BatchNormalizati (None, 12, 12, 128)  512         res3b_branch2b[0][0]             \n",
      "__________________________________________________________________________________________________\n",
      "activation_15 (Activation)      (None, 12, 12, 128)  0           bn3b_branch2b[0][0]              \n",
      "__________________________________________________________________________________________________\n",
      "res3b_branch2c (Conv2D)         (None, 12, 12, 512)  66048       activation_15[0][0]              \n",
      "__________________________________________________________________________________________________\n",
      "bn3b_branch2c (BatchNormalizati (None, 12, 12, 512)  2048        res3b_branch2c[0][0]             \n",
      "__________________________________________________________________________________________________\n",
      "add_5 (Add)                     (None, 12, 12, 512)  0           bn3b_branch2c[0][0]              \n",
      "                                                                 activation_13[0][0]              \n",
      "__________________________________________________________________________________________________\n",
      "activation_16 (Activation)      (None, 12, 12, 512)  0           add_5[0][0]                      \n",
      "__________________________________________________________________________________________________\n",
      "res3c_branch2a (Conv2D)         (None, 12, 12, 128)  65664       activation_16[0][0]              \n",
      "__________________________________________________________________________________________________\n",
      "bn3c_branch2a (BatchNormalizati (None, 12, 12, 128)  512         res3c_branch2a[0][0]             \n",
      "__________________________________________________________________________________________________\n",
      "activation_17 (Activation)      (None, 12, 12, 128)  0           bn3c_branch2a[0][0]              \n",
      "__________________________________________________________________________________________________\n",
      "res3c_branch2b (Conv2D)         (None, 12, 12, 128)  147584      activation_17[0][0]              \n",
      "__________________________________________________________________________________________________\n",
      "bn3c_branch2b (BatchNormalizati (None, 12, 12, 128)  512         res3c_branch2b[0][0]             \n",
      "__________________________________________________________________________________________________\n",
      "activation_18 (Activation)      (None, 12, 12, 128)  0           bn3c_branch2b[0][0]              \n",
      "__________________________________________________________________________________________________\n",
      "res3c_branch2c (Conv2D)         (None, 12, 12, 512)  66048       activation_18[0][0]              \n",
      "__________________________________________________________________________________________________\n",
      "bn3c_branch2c (BatchNormalizati (None, 12, 12, 512)  2048        res3c_branch2c[0][0]             \n",
      "__________________________________________________________________________________________________\n",
      "add_6 (Add)                     (None, 12, 12, 512)  0           bn3c_branch2c[0][0]              \n",
      "                                                                 activation_16[0][0]              \n",
      "__________________________________________________________________________________________________\n",
      "activation_19 (Activation)      (None, 12, 12, 512)  0           add_6[0][0]                      \n",
      "__________________________________________________________________________________________________\n",
      "res3d_branch2a (Conv2D)         (None, 12, 12, 128)  65664       activation_19[0][0]              \n",
      "__________________________________________________________________________________________________\n",
      "bn3d_branch2a (BatchNormalizati (None, 12, 12, 128)  512         res3d_branch2a[0][0]             \n",
      "__________________________________________________________________________________________________\n",
      "activation_20 (Activation)      (None, 12, 12, 128)  0           bn3d_branch2a[0][0]              \n",
      "__________________________________________________________________________________________________\n",
      "res3d_branch2b (Conv2D)         (None, 12, 12, 128)  147584      activation_20[0][0]              \n",
      "__________________________________________________________________________________________________\n",
      "bn3d_branch2b (BatchNormalizati (None, 12, 12, 128)  512         res3d_branch2b[0][0]             \n",
      "__________________________________________________________________________________________________\n",
      "activation_21 (Activation)      (None, 12, 12, 128)  0           bn3d_branch2b[0][0]              \n",
      "__________________________________________________________________________________________________\n",
      "res3d_branch2c (Conv2D)         (None, 12, 12, 512)  66048       activation_21[0][0]              \n",
      "__________________________________________________________________________________________________\n",
      "bn3d_branch2c (BatchNormalizati (None, 12, 12, 512)  2048        res3d_branch2c[0][0]             \n",
      "__________________________________________________________________________________________________\n",
      "add_7 (Add)                     (None, 12, 12, 512)  0           bn3d_branch2c[0][0]              \n",
      "                                                                 activation_19[0][0]              \n",
      "__________________________________________________________________________________________________\n",
      "activation_22 (Activation)      (None, 12, 12, 512)  0           add_7[0][0]                      \n",
      "__________________________________________________________________________________________________\n",
      "res4a_branch2a (Conv2D)         (None, 6, 6, 256)    131328      activation_22[0][0]              \n",
      "__________________________________________________________________________________________________\n",
      "bn4a_branch2a (BatchNormalizati (None, 6, 6, 256)    1024        res4a_branch2a[0][0]             \n",
      "__________________________________________________________________________________________________\n",
      "activation_23 (Activation)      (None, 6, 6, 256)    0           bn4a_branch2a[0][0]              \n",
      "__________________________________________________________________________________________________\n",
      "res4a_branch2b (Conv2D)         (None, 6, 6, 256)    590080      activation_23[0][0]              \n",
      "__________________________________________________________________________________________________\n",
      "bn4a_branch2b (BatchNormalizati (None, 6, 6, 256)    1024        res4a_branch2b[0][0]             \n",
      "__________________________________________________________________________________________________\n",
      "activation_24 (Activation)      (None, 6, 6, 256)    0           bn4a_branch2b[0][0]              \n",
      "__________________________________________________________________________________________________\n",
      "res4a_branch2c (Conv2D)         (None, 6, 6, 1024)   263168      activation_24[0][0]              \n",
      "__________________________________________________________________________________________________\n",
      "res4a_branch1 (Conv2D)          (None, 6, 6, 1024)   525312      activation_22[0][0]              \n",
      "__________________________________________________________________________________________________\n",
      "bn4a_branch2c (BatchNormalizati (None, 6, 6, 1024)   4096        res4a_branch2c[0][0]             \n",
      "__________________________________________________________________________________________________\n",
      "bn4a_branch1 (BatchNormalizatio (None, 6, 6, 1024)   4096        res4a_branch1[0][0]              \n",
      "__________________________________________________________________________________________________\n",
      "add_8 (Add)                     (None, 6, 6, 1024)   0           bn4a_branch2c[0][0]              \n",
      "                                                                 bn4a_branch1[0][0]               \n",
      "__________________________________________________________________________________________________\n",
      "activation_25 (Activation)      (None, 6, 6, 1024)   0           add_8[0][0]                      \n",
      "__________________________________________________________________________________________________\n",
      "res4b_branch2a (Conv2D)         (None, 6, 6, 256)    262400      activation_25[0][0]              \n",
      "__________________________________________________________________________________________________\n",
      "bn4b_branch2a (BatchNormalizati (None, 6, 6, 256)    1024        res4b_branch2a[0][0]             \n",
      "__________________________________________________________________________________________________\n",
      "activation_26 (Activation)      (None, 6, 6, 256)    0           bn4b_branch2a[0][0]              \n",
      "__________________________________________________________________________________________________\n",
      "res4b_branch2b (Conv2D)         (None, 6, 6, 256)    590080      activation_26[0][0]              \n",
      "__________________________________________________________________________________________________\n",
      "bn4b_branch2b (BatchNormalizati (None, 6, 6, 256)    1024        res4b_branch2b[0][0]             \n",
      "__________________________________________________________________________________________________\n",
      "activation_27 (Activation)      (None, 6, 6, 256)    0           bn4b_branch2b[0][0]              \n",
      "__________________________________________________________________________________________________\n",
      "res4b_branch2c (Conv2D)         (None, 6, 6, 1024)   263168      activation_27[0][0]              \n",
      "__________________________________________________________________________________________________\n",
      "bn4b_branch2c (BatchNormalizati (None, 6, 6, 1024)   4096        res4b_branch2c[0][0]             \n",
      "__________________________________________________________________________________________________\n",
      "add_9 (Add)                     (None, 6, 6, 1024)   0           bn4b_branch2c[0][0]              \n",
      "                                                                 activation_25[0][0]              \n",
      "__________________________________________________________________________________________________\n",
      "activation_28 (Activation)      (None, 6, 6, 1024)   0           add_9[0][0]                      \n",
      "__________________________________________________________________________________________________\n",
      "res4c_branch2a (Conv2D)         (None, 6, 6, 256)    262400      activation_28[0][0]              \n",
      "__________________________________________________________________________________________________\n",
      "bn4c_branch2a (BatchNormalizati (None, 6, 6, 256)    1024        res4c_branch2a[0][0]             \n",
      "__________________________________________________________________________________________________\n",
      "activation_29 (Activation)      (None, 6, 6, 256)    0           bn4c_branch2a[0][0]              \n",
      "__________________________________________________________________________________________________\n",
      "res4c_branch2b (Conv2D)         (None, 6, 6, 256)    590080      activation_29[0][0]              \n",
      "__________________________________________________________________________________________________\n",
      "bn4c_branch2b (BatchNormalizati (None, 6, 6, 256)    1024        res4c_branch2b[0][0]             \n",
      "__________________________________________________________________________________________________\n",
      "activation_30 (Activation)      (None, 6, 6, 256)    0           bn4c_branch2b[0][0]              \n",
      "__________________________________________________________________________________________________\n",
      "res4c_branch2c (Conv2D)         (None, 6, 6, 1024)   263168      activation_30[0][0]              \n",
      "__________________________________________________________________________________________________\n",
      "bn4c_branch2c (BatchNormalizati (None, 6, 6, 1024)   4096        res4c_branch2c[0][0]             \n",
      "__________________________________________________________________________________________________\n",
      "add_10 (Add)                    (None, 6, 6, 1024)   0           bn4c_branch2c[0][0]              \n",
      "                                                                 activation_28[0][0]              \n",
      "__________________________________________________________________________________________________\n",
      "activation_31 (Activation)      (None, 6, 6, 1024)   0           add_10[0][0]                     \n",
      "__________________________________________________________________________________________________\n",
      "res4d_branch2a (Conv2D)         (None, 6, 6, 256)    262400      activation_31[0][0]              \n",
      "__________________________________________________________________________________________________\n",
      "bn4d_branch2a (BatchNormalizati (None, 6, 6, 256)    1024        res4d_branch2a[0][0]             \n",
      "__________________________________________________________________________________________________\n",
      "activation_32 (Activation)      (None, 6, 6, 256)    0           bn4d_branch2a[0][0]              \n",
      "__________________________________________________________________________________________________\n",
      "res4d_branch2b (Conv2D)         (None, 6, 6, 256)    590080      activation_32[0][0]              \n",
      "__________________________________________________________________________________________________\n",
      "bn4d_branch2b (BatchNormalizati (None, 6, 6, 256)    1024        res4d_branch2b[0][0]             \n",
      "__________________________________________________________________________________________________\n",
      "activation_33 (Activation)      (None, 6, 6, 256)    0           bn4d_branch2b[0][0]              \n",
      "__________________________________________________________________________________________________\n",
      "res4d_branch2c (Conv2D)         (None, 6, 6, 1024)   263168      activation_33[0][0]              \n",
      "__________________________________________________________________________________________________\n",
      "bn4d_branch2c (BatchNormalizati (None, 6, 6, 1024)   4096        res4d_branch2c[0][0]             \n",
      "__________________________________________________________________________________________________\n",
      "add_11 (Add)                    (None, 6, 6, 1024)   0           bn4d_branch2c[0][0]              \n",
      "                                                                 activation_31[0][0]              \n",
      "__________________________________________________________________________________________________\n",
      "activation_34 (Activation)      (None, 6, 6, 1024)   0           add_11[0][0]                     \n",
      "__________________________________________________________________________________________________\n",
      "res4e_branch2a (Conv2D)         (None, 6, 6, 256)    262400      activation_34[0][0]              \n",
      "__________________________________________________________________________________________________\n",
      "bn4e_branch2a (BatchNormalizati (None, 6, 6, 256)    1024        res4e_branch2a[0][0]             \n",
      "__________________________________________________________________________________________________\n",
      "activation_35 (Activation)      (None, 6, 6, 256)    0           bn4e_branch2a[0][0]              \n",
      "__________________________________________________________________________________________________\n",
      "res4e_branch2b (Conv2D)         (None, 6, 6, 256)    590080      activation_35[0][0]              \n",
      "__________________________________________________________________________________________________\n",
      "bn4e_branch2b (BatchNormalizati (None, 6, 6, 256)    1024        res4e_branch2b[0][0]             \n",
      "__________________________________________________________________________________________________\n",
      "activation_36 (Activation)      (None, 6, 6, 256)    0           bn4e_branch2b[0][0]              \n",
      "__________________________________________________________________________________________________\n",
      "res4e_branch2c (Conv2D)         (None, 6, 6, 1024)   263168      activation_36[0][0]              \n",
      "__________________________________________________________________________________________________\n",
      "bn4e_branch2c (BatchNormalizati (None, 6, 6, 1024)   4096        res4e_branch2c[0][0]             \n",
      "__________________________________________________________________________________________________\n",
      "add_12 (Add)                    (None, 6, 6, 1024)   0           bn4e_branch2c[0][0]              \n",
      "                                                                 activation_34[0][0]              \n",
      "__________________________________________________________________________________________________\n",
      "activation_37 (Activation)      (None, 6, 6, 1024)   0           add_12[0][0]                     \n",
      "__________________________________________________________________________________________________\n",
      "res4f_branch2a (Conv2D)         (None, 6, 6, 256)    262400      activation_37[0][0]              \n",
      "__________________________________________________________________________________________________\n",
      "bn4f_branch2a (BatchNormalizati (None, 6, 6, 256)    1024        res4f_branch2a[0][0]             \n",
      "__________________________________________________________________________________________________\n",
      "activation_38 (Activation)      (None, 6, 6, 256)    0           bn4f_branch2a[0][0]              \n",
      "__________________________________________________________________________________________________\n",
      "res4f_branch2b (Conv2D)         (None, 6, 6, 256)    590080      activation_38[0][0]              \n",
      "__________________________________________________________________________________________________\n",
      "bn4f_branch2b (BatchNormalizati (None, 6, 6, 256)    1024        res4f_branch2b[0][0]             \n",
      "__________________________________________________________________________________________________\n",
      "activation_39 (Activation)      (None, 6, 6, 256)    0           bn4f_branch2b[0][0]              \n",
      "__________________________________________________________________________________________________\n",
      "res4f_branch2c (Conv2D)         (None, 6, 6, 1024)   263168      activation_39[0][0]              \n",
      "__________________________________________________________________________________________________\n",
      "bn4f_branch2c (BatchNormalizati (None, 6, 6, 1024)   4096        res4f_branch2c[0][0]             \n",
      "__________________________________________________________________________________________________\n",
      "add_13 (Add)                    (None, 6, 6, 1024)   0           bn4f_branch2c[0][0]              \n",
      "                                                                 activation_37[0][0]              \n",
      "__________________________________________________________________________________________________\n",
      "activation_40 (Activation)      (None, 6, 6, 1024)   0           add_13[0][0]                     \n",
      "__________________________________________________________________________________________________\n",
      "res5a_branch2a (Conv2D)         (None, 3, 3, 512)    524800      activation_40[0][0]              \n",
      "__________________________________________________________________________________________________\n",
      "bn5a_branch2a (BatchNormalizati (None, 3, 3, 512)    2048        res5a_branch2a[0][0]             \n",
      "__________________________________________________________________________________________________\n",
      "activation_41 (Activation)      (None, 3, 3, 512)    0           bn5a_branch2a[0][0]              \n",
      "__________________________________________________________________________________________________\n",
      "res5a_branch2b (Conv2D)         (None, 3, 3, 512)    2359808     activation_41[0][0]              \n",
      "__________________________________________________________________________________________________\n",
      "bn5a_branch2b (BatchNormalizati (None, 3, 3, 512)    2048        res5a_branch2b[0][0]             \n",
      "__________________________________________________________________________________________________\n",
      "activation_42 (Activation)      (None, 3, 3, 512)    0           bn5a_branch2b[0][0]              \n",
      "__________________________________________________________________________________________________\n",
      "res5a_branch2c (Conv2D)         (None, 3, 3, 2048)   1050624     activation_42[0][0]              \n",
      "__________________________________________________________________________________________________\n",
      "res5a_branch1 (Conv2D)          (None, 3, 3, 2048)   2099200     activation_40[0][0]              \n",
      "__________________________________________________________________________________________________\n",
      "bn5a_branch2c (BatchNormalizati (None, 3, 3, 2048)   8192        res5a_branch2c[0][0]             \n",
      "__________________________________________________________________________________________________\n",
      "bn5a_branch1 (BatchNormalizatio (None, 3, 3, 2048)   8192        res5a_branch1[0][0]              \n",
      "__________________________________________________________________________________________________\n",
      "add_14 (Add)                    (None, 3, 3, 2048)   0           bn5a_branch2c[0][0]              \n",
      "                                                                 bn5a_branch1[0][0]               \n",
      "__________________________________________________________________________________________________\n",
      "activation_43 (Activation)      (None, 3, 3, 2048)   0           add_14[0][0]                     \n",
      "__________________________________________________________________________________________________\n",
      "res5b_branch2a (Conv2D)         (None, 3, 3, 512)    1049088     activation_43[0][0]              \n",
      "__________________________________________________________________________________________________\n",
      "bn5b_branch2a (BatchNormalizati (None, 3, 3, 512)    2048        res5b_branch2a[0][0]             \n",
      "__________________________________________________________________________________________________\n",
      "activation_44 (Activation)      (None, 3, 3, 512)    0           bn5b_branch2a[0][0]              \n",
      "__________________________________________________________________________________________________\n",
      "res5b_branch2b (Conv2D)         (None, 3, 3, 512)    2359808     activation_44[0][0]              \n",
      "__________________________________________________________________________________________________\n",
      "bn5b_branch2b (BatchNormalizati (None, 3, 3, 512)    2048        res5b_branch2b[0][0]             \n",
      "__________________________________________________________________________________________________\n",
      "activation_45 (Activation)      (None, 3, 3, 512)    0           bn5b_branch2b[0][0]              \n",
      "__________________________________________________________________________________________________\n",
      "res5b_branch2c (Conv2D)         (None, 3, 3, 2048)   1050624     activation_45[0][0]              \n",
      "__________________________________________________________________________________________________\n",
      "bn5b_branch2c (BatchNormalizati (None, 3, 3, 2048)   8192        res5b_branch2c[0][0]             \n",
      "__________________________________________________________________________________________________\n",
      "add_15 (Add)                    (None, 3, 3, 2048)   0           bn5b_branch2c[0][0]              \n",
      "                                                                 activation_43[0][0]              \n",
      "__________________________________________________________________________________________________\n",
      "activation_46 (Activation)      (None, 3, 3, 2048)   0           add_15[0][0]                     \n",
      "__________________________________________________________________________________________________\n",
      "res5c_branch2a (Conv2D)         (None, 3, 3, 512)    1049088     activation_46[0][0]              \n",
      "__________________________________________________________________________________________________\n",
      "bn5c_branch2a (BatchNormalizati (None, 3, 3, 512)    2048        res5c_branch2a[0][0]             \n",
      "__________________________________________________________________________________________________\n",
      "activation_47 (Activation)      (None, 3, 3, 512)    0           bn5c_branch2a[0][0]              \n",
      "__________________________________________________________________________________________________\n",
      "res5c_branch2b (Conv2D)         (None, 3, 3, 512)    2359808     activation_47[0][0]              \n",
      "__________________________________________________________________________________________________\n",
      "bn5c_branch2b (BatchNormalizati (None, 3, 3, 512)    2048        res5c_branch2b[0][0]             \n",
      "__________________________________________________________________________________________________\n",
      "activation_48 (Activation)      (None, 3, 3, 512)    0           bn5c_branch2b[0][0]              \n",
      "__________________________________________________________________________________________________\n",
      "res5c_branch2c (Conv2D)         (None, 3, 3, 2048)   1050624     activation_48[0][0]              \n",
      "__________________________________________________________________________________________________\n",
      "bn5c_branch2c (BatchNormalizati (None, 3, 3, 2048)   8192        res5c_branch2c[0][0]             \n",
      "__________________________________________________________________________________________________\n",
      "add_16 (Add)                    (None, 3, 3, 2048)   0           bn5c_branch2c[0][0]              \n",
      "                                                                 activation_46[0][0]              \n",
      "__________________________________________________________________________________________________\n",
      "activation_49 (Activation)      (None, 3, 3, 2048)   0           add_16[0][0]                     \n",
      "==================================================================================================\n",
      "Total params: 23,587,712\n",
      "Trainable params: 23,534,592\n",
      "Non-trainable params: 53,120\n",
      "__________________________________________________________________________________________________\n"
     ]
    }
   ],
   "source": [
    "base_model.summary()"
   ]
  },
  {
   "cell_type": "code",
   "execution_count": 27,
   "metadata": {
    "_uuid": "c6c757e87dddf186ec6917bc245e279a910aa959"
   },
   "outputs": [],
   "source": [
    "inputs = Input((96,96,3))"
   ]
  },
  {
   "cell_type": "code",
   "execution_count": 28,
   "metadata": {
    "_uuid": "4943b8e9da60aaec92a6ebd51770de690f930b57"
   },
   "outputs": [],
   "source": [
    "for layer in base_model.layers[:20]:\n",
    "    layer.trainable = False\n",
    "    \n",
    "for layer in base_model.layers[20:]:\n",
    "    layer.trainable = True"
   ]
  },
  {
   "cell_type": "code",
   "execution_count": 29,
   "metadata": {
    "_uuid": "e88ad91cf78c9e65c53c02f925cec3b3c8c56771"
   },
   "outputs": [],
   "source": []
  },
  {
   "cell_type": "code",
   "execution_count": 29,
   "metadata": {
    "_uuid": "e02103da71ab5ea30f1206b0806590e66c6c7edd"
   },
   "outputs": [],
   "source": [
    "# model.add(base_model)\n",
    "# model.add(Flatten())\n",
    "# model.add(BatchNormalization())\n",
    "# model.add(Dense(256,activation='relu'))\n",
    "# model.add(BatchNormalization())\n",
    "# model.add(Dense(512,activation='relu'))\n",
    "# model.add(BatchNormalization())\n",
    "# model.add(Dense(1,activation='sigmoid'))\n",
    "\n",
    "# model.layers[0].trainable = False"
   ]
  },
  {
   "cell_type": "code",
   "execution_count": 30,
   "metadata": {
    "_uuid": "a50acedb1f7ea90e6913d9a32355766b668fa4a4"
   },
   "outputs": [],
   "source": [
    "# define roc_callback, inspired by https://github.com/keras-team/keras/issues/6050#issuecomment-329996505\n",
    "def auc_roc(y_true, y_pred):\n",
    "    # any tensorflow metric\n",
    "    value, update_op = tf.contrib.metrics.streaming_auc(y_pred, y_true)\n",
    "\n",
    "    # find all variables created for this metric\n",
    "    metric_vars = [i for i in tf.local_variables() if 'auc_roc' in i.name.split('/')[1]]\n",
    "\n",
    "    # Add metric variables to GLOBAL_VARIABLES collection.\n",
    "    # They will be initialized for new session.\n",
    "    for v in metric_vars:\n",
    "        tf.add_to_collection(tf.GraphKeys.GLOBAL_VARIABLES, v)\n",
    "\n",
    "    # force to update metric values\n",
    "    with tf.control_dependencies([update_op]):\n",
    "        value = tf.identity(value)\n",
    "        return value"
   ]
  },
  {
   "cell_type": "code",
   "execution_count": 31,
   "metadata": {
    "_uuid": "8955983077afd91f142975074ebc09c805ba1701"
   },
   "outputs": [],
   "source": [
    "# learning_rate_reduction1 = ReduceLROnPlateau(monitor='val_loss', \n",
    "#                                             patience=2, \n",
    "#                                             verbose=1, \n",
    "#                                             factor=0.2, \n",
    "#                                             min_delta=0.0001)\n",
    "\n",
    "# learning_rate_reduction2 = ReduceLROnPlateau(monitor='val_acc', patience=2, verbose=1, factor=0.5, \n",
    "#                                             min_lr=0.000001, cooldown=3,min_delta=0.01, mode='max')\n",
    "\n",
    "# learning_rate_reduction3 = ReduceLROnPlateau(monitor='val_auc_roc', patience=2, verbose=1, factor=0.5, \n",
    "#                                             min_lr=0.00001, cooldown=3, min_delta=0.01, mode='max')\n",
    "\n",
    "adam = Adam(lr=1e-3, beta_1=0.9, beta_2=0.999, epsilon=1e-08) \n",
    "# adam = Adam(lr=0.0001, beta_1=0.9, beta_2=0.999, epsilon=None, decay=0.0, amsgrad=False)"
   ]
  },
  {
   "cell_type": "code",
   "execution_count": 32,
   "metadata": {
    "_uuid": "78a3615872d2494f7bd1b1d16c7ae9c346fd62eb"
   },
   "outputs": [
    {
     "name": "stdout",
     "output_type": "stream",
     "text": [
      "WARNING:tensorflow:From <ipython-input-30-d689dba3be55>:4: streaming_auc (from tensorflow.contrib.metrics.python.ops.metric_ops) is deprecated and will be removed in a future version.\n",
      "Instructions for updating:\n",
      "Please switch to tf.metrics.auc. Note that the order of the labels and predictions arguments has been switched.\n",
      "__________________________________________________________________________________________________\n",
      "Layer (type)                    Output Shape         Param #     Connected to                     \n",
      "==================================================================================================\n",
      "input_2 (InputLayer)            (None, 96, 96, 3)    0                                            \n",
      "__________________________________________________________________________________________________\n",
      "resnet50 (Model)                (None, 3, 3, 2048)   23587712    input_2[0][0]                    \n",
      "__________________________________________________________________________________________________\n",
      "global_average_pooling2d_1 (Glo (None, 2048)         0           resnet50[1][0]                   \n",
      "__________________________________________________________________________________________________\n",
      "flatten_1 (Flatten)             (None, 18432)        0           resnet50[1][0]                   \n",
      "__________________________________________________________________________________________________\n",
      "concatenate_1 (Concatenate)     (None, 20480)        0           global_average_pooling2d_1[0][0] \n",
      "                                                                 flatten_1[0][0]                  \n",
      "__________________________________________________________________________________________________\n",
      "dense_1 (Dense)                 (None, 512)          10486272    concatenate_1[0][0]              \n",
      "__________________________________________________________________________________________________\n",
      "dropout_1 (Dropout)             (None, 512)          0           dense_1[0][0]                    \n",
      "__________________________________________________________________________________________________\n",
      "dense_2 (Dense)                 (None, 1)            513         dropout_1[0][0]                  \n",
      "==================================================================================================\n",
      "Total params: 34,074,497\n",
      "Trainable params: 33,919,681\n",
      "Non-trainable params: 154,816\n",
      "__________________________________________________________________________________________________\n"
     ]
    }
   ],
   "source": [
    "x = base_model(inputs)\n",
    "# x = base_model.output\n",
    "# op1 = GlobalMaxPooling2D()(x)\n",
    "op2 = GlobalAveragePooling2D()(x)\n",
    "op3 = Flatten()(x)\n",
    "op = Concatenate(axis=-1)([op2,op3])\n",
    "op = Dense(512,activation='relu')(op)\n",
    "op = Dropout(0.5)(op)\n",
    "op = Dense(1, activation='sigmoid')(op)\n",
    "model = Model(inputs,op)\n",
    "# model = Model(base_model.input,op)\n",
    "model.compile(optimizer=Adam(0.0001), loss='binary_crossentropy', metrics=['accuracy',auc_roc])\n",
    "model.summary()"
   ]
  },
  {
   "cell_type": "code",
   "execution_count": 33,
   "metadata": {
    "_uuid": "29c16d2b9cb31d45cbc032afba8ae4912d9bdece"
   },
   "outputs": [],
   "source": [
    "filepath = 'mod11.h5'\n",
    "checkpoint = ModelCheckpoint(filepath= filepath,monitor='val_auc_roc',save_best_only=True, mode='max', verbose=2)"
   ]
  },
  {
   "cell_type": "code",
   "execution_count": 34,
   "metadata": {
    "_uuid": "0fe99dc8497767cf31b909504c91b2f1cc5ccc4d"
   },
   "outputs": [],
   "source": [
    "# set_random_seed(42)"
   ]
  },
  {
   "cell_type": "code",
   "execution_count": 35,
   "metadata": {
    "_uuid": "0258531fc83742cd3d699d43b28cc21668130219"
   },
   "outputs": [],
   "source": [
    "# model = Sequential()\n",
    "# model.add(Conv2D(filters = 16, kernel_size = 3, padding = 'same', activation = 'relu', input_shape = (96, 96, 3)))\n",
    "# model.add(Conv2D(filters = 16, kernel_size = 3, padding = 'same', activation = 'relu'))\n",
    "# model.add(Conv2D(filters = 16, kernel_size = 3, padding = 'same', activation = 'relu'))\n",
    "# model.add(BatchNormalization())\n",
    "# model.add(Dropout(0.3))\n",
    "# model.add(MaxPooling2D(pool_size = 3)) \n",
    "\n",
    "# model.add(Conv2D(filters = 32, kernel_size = 3, padding = 'same', activation = 'relu')) \n",
    "# model.add(Conv2D(filters = 32, kernel_size = 3, padding = 'same', activation = 'relu')) \n",
    "# model.add(Conv2D(filters = 32, kernel_size = 3, padding = 'same', activation = 'relu'))\n",
    "# model.add(BatchNormalization())\n",
    "# model.add(Dropout(0.5))\n",
    "# model.add(MaxPooling2D(pool_size = 3)) \n",
    "\n",
    "# model.add(Conv2D(filters = 64, kernel_size = 3, padding = 'same', activation = 'relu'))\n",
    "# model.add(Conv2D(filters = 64, kernel_size = 3, padding = 'same', activation = 'relu'))\n",
    "# model.add(Conv2D(filters = 64, kernel_size = 3, padding = 'same', activation = 'relu'))\n",
    "# model.add(BatchNormalization())\n",
    "# model.add(Dropout(0.5))\n",
    "# model.add(MaxPooling2D(pool_size = 3))\n",
    "\n",
    "# model.add(Conv2D(filters = 128, kernel_size = 3, padding = 'same', activation = 'relu'))\n",
    "# model.add(Conv2D(filters = 128, kernel_size = 3, padding = 'same', activation = 'relu'))\n",
    "# model.add(Conv2D(filters = 256, kernel_size = 3, padding = 'same', activation = 'relu'))\n",
    "# # model.add(BatchNormalization())\n",
    "# model.add(Dropout(0.5))\n",
    "# model.add(MaxPooling2D(pool_size = 3))"
   ]
  },
  {
   "cell_type": "code",
   "execution_count": 36,
   "metadata": {
    "_uuid": "6627e5ad7ea9b673ab37543d91a120f9e37bd82f"
   },
   "outputs": [],
   "source": [
    "# model.add(Flatten())\n",
    "# model.add(Dense(1, activation='sigmoid'))"
   ]
  },
  {
   "cell_type": "code",
   "execution_count": 37,
   "metadata": {
    "_uuid": "eb15cbf98a258cbdb381f865d935b1b7f3d9194a"
   },
   "outputs": [],
   "source": [
    "# # define roc_callback, inspired by https://github.com/keras-team/keras/issues/6050#issuecomment-329996505\n",
    "# def auc_roc(y_true, y_pred):\n",
    "#     # any tensorflow metric\n",
    "#     value, update_op = tf.contrib.metrics.streaming_auc(y_pred, y_true)\n",
    "\n",
    "#     # find all variables created for this metric\n",
    "#     metric_vars = [i for i in tf.local_variables() if 'auc_roc' in i.name.split('/')[1]]\n",
    "\n",
    "#     # Add metric variables to GLOBAL_VARIABLES collection.\n",
    "#     # They will be initialized for new session.\n",
    "#     for v in metric_vars:\n",
    "#         tf.add_to_collection(tf.GraphKeys.GLOBAL_VARIABLES, v)\n",
    "\n",
    "#     # force to update metric values\n",
    "#     with tf.control_dependencies([update_op]):\n",
    "#         value = tf.identity(value)\n",
    "#         return value"
   ]
  },
  {
   "cell_type": "code",
   "execution_count": 38,
   "metadata": {
    "_uuid": "e708a538712007c326bcd4751b1e05c34fd71a08"
   },
   "outputs": [],
   "source": [
    "# my_callbacks = [EarlyStopping(monitor='auc_roc', patience=6, verbose=1, mode='max')]"
   ]
  },
  {
   "cell_type": "code",
   "execution_count": 39,
   "metadata": {
    "_uuid": "3a2a78cc19efeae789d7940dc7f7da11cdb9787d",
    "scrolled": true
   },
   "outputs": [],
   "source": [
    "# model.compile(optimizer= 'adam', loss='binary_crossentropy', metrics=['accuracy',auc_roc])"
   ]
  },
  {
   "cell_type": "code",
   "execution_count": 40,
   "metadata": {
    "_uuid": "f3eabb4845c5a920c24ab11247c05b128fd0a8c9"
   },
   "outputs": [],
   "source": [
    "call_back_list = [checkpoint]"
   ]
  },
  {
   "cell_type": "code",
   "execution_count": 41,
   "metadata": {
    "_uuid": "f59640cca798b94087cc023f63c918e0d031b53a",
    "scrolled": true
   },
   "outputs": [
    {
     "name": "stdout",
     "output_type": "stream",
     "text": [
      "Epoch 1/12\n",
      "2579/2578 [==============================] - 1233s 478ms/step - loss: 0.4196 - acc: 0.8155 - auc_roc: 0.8519 - val_loss: 0.4577 - val_acc: 0.8111 - val_auc_roc: 0.8868\n",
      "\n",
      "Epoch 00001: val_auc_roc improved from -inf to 0.88679, saving model to mod11.h5\n",
      "Epoch 2/12\n",
      "2579/2578 [==============================] - 1069s 415ms/step - loss: 0.3434 - acc: 0.8518 - auc_roc: 0.8951 - val_loss: 0.4933 - val_acc: 0.8139 - val_auc_roc: 0.8998\n",
      "\n",
      "Epoch 00002: val_auc_roc improved from 0.88679 to 0.89980, saving model to mod11.h5\n",
      "Epoch 3/12\n",
      " 663/2578 [======>.......................] - ETA: 12:40 - loss: 0.3318 - acc: 0.8591 - auc_roc: 0.8994"
     ]
    }
   ],
   "source": [
    "batch_size = 64\n",
    "model.fit_generator(data_gen(df_gen_train,id_label_mapping,batch_size=batch_size,augment=True),\n",
    "                    validation_data=data_gen(df_gen_val,id_label_mapping,batch_size=batch_size), epochs=12,\n",
    "                   steps_per_epoch = len(df_gen_train)/batch_size, validation_steps = len(df_gen_val)/batch_size, callbacks=call_back_list)"
   ]
  },
  {
   "cell_type": "code",
   "execution_count": 42,
   "metadata": {
    "_uuid": "3d2ab1ab51168789fd9df66f75375bb70e186ed7"
   },
   "outputs": [],
   "source": [
    "model.save('model.h5')"
   ]
  },
  {
   "cell_type": "code",
   "execution_count": 43,
   "metadata": {
    "_uuid": "f5aac368f8f8106bf176d961e3e9b294cc8733b4"
   },
   "outputs": [],
   "source": [
    "preds = []\n",
    "ids = []\n",
    "for batch in get_batch(df_test_paths, batch_size=64):\n",
    "    X = [preprocess_input(cv2.imread(x)) for x in batch]\n",
    "    ids_batch = [get_id_from_path(x) for x in batch]\n",
    "    X = np.array(X)\n",
    "    preds_batch = ((model.predict(X).ravel()*model.predict(X[:, ::-1, :, :]).ravel()*model.predict(X[:, ::-1, ::-1, :]).ravel()*model.predict(X[:, :, ::-1, :]).ravel())**0.25).tolist()\n",
    "    preds += preds_batch\n",
    "    ids += ids_batch"
   ]
  },
  {
   "cell_type": "code",
   "execution_count": 44,
   "metadata": {
    "_uuid": "43b3a83221aed289b29f10826ca76245b2d100cf"
   },
   "outputs": [],
   "source": [
    "# pred = (model.predict(val_imgs).ravel()*model.predict(val_imgs[:,::-1,:,:]).ravel()*model.predict(val_imgs[:,:,::-1,:]).ravel()*model.predict(val_imgs[:,::-1,::-1,:]).ravel())**0.25"
   ]
  },
  {
   "cell_type": "code",
   "execution_count": 45,
   "metadata": {
    "_uuid": "1319492e8c1df761f9b3fc22c087c850d37b5869"
   },
   "outputs": [],
   "source": [
    "# val_y = []\n",
    "# for img_path in df_gen_val:\n",
    "#     val_y.append(id_label_mapping[get_id_from_path(img_path)])"
   ]
  },
  {
   "cell_type": "code",
   "execution_count": 46,
   "metadata": {
    "_uuid": "f968ebf9c3b056824f9155ab35837ee21cd0af36"
   },
   "outputs": [],
   "source": [
    "# ids = []\n",
    "# pred = []\n",
    "# for batch in get_batch(df_gen_val,batch_size):\n",
    "#     imgs = [cv2.imread(img_path) for img_path in df_gen_val]\n",
    "#     id_batch = [get_id_from_path(img_path)]\n",
    "#     imgs = np.array(imgs)\n",
    "#     preds_batch = ((model.predict(imgs).ravel()*model.predict(imgs[:, ::-1, :, :]).ravel()*model.predict(imgs[:, ::-1, ::-1, :]).ravel()*model.predict(imgs[:, :, ::-1, :]).ravel())**0.25).tolist()\n",
    "#     pred += preds_batch\n",
    "#     ids += id_batch\n"
   ]
  },
  {
   "cell_type": "code",
   "execution_count": 47,
   "metadata": {
    "_uuid": "e575d4f25909cafd4c8715b685a60cfd64147010"
   },
   "outputs": [],
   "source": [
    "# df_train = [cv2.imread(img_path) for img_path in df_train_paths]\n",
    "# df_test = [cv2.imread(img_path) for img_path in df_test_paths]"
   ]
  },
  {
   "cell_type": "code",
   "execution_count": 48,
   "metadata": {
    "_uuid": "7b429e2d406f7867ea3ecee410f2e89d0fb584a1"
   },
   "outputs": [],
   "source": [
    "# df_test = np.array(df_test)"
   ]
  },
  {
   "cell_type": "code",
   "execution_count": 49,
   "metadata": {
    "_uuid": "012429d29f289c18f9b72b09ea51b54841e6350c"
   },
   "outputs": [],
   "source": [
    "# df_gen_train_imgs = [cv2.imread(img_path) for img_path in df_gen_train]"
   ]
  },
  {
   "cell_type": "code",
   "execution_count": 50,
   "metadata": {
    "_uuid": "2e118252907f3cb2e6fd56fe1d73bbe8d07f7933"
   },
   "outputs": [],
   "source": [
    "# df_gen_val_imgs = [cv2.imread(img_path) for img_path in df_gen_val]"
   ]
  },
  {
   "cell_type": "code",
   "execution_count": 51,
   "metadata": {
    "_uuid": "cc5df23e1a399778affa3957e5c9b9474b05fcd7"
   },
   "outputs": [],
   "source": [
    "# seq = get_seq()"
   ]
  },
  {
   "cell_type": "code",
   "execution_count": 52,
   "metadata": {
    "_uuid": "580c4a3cb99529fbfdd0bdcfd8a10fc84c760490"
   },
   "outputs": [],
   "source": [
    "# df_gen_train_imgs = seq.augment_images(df_gen_train_imgs)"
   ]
  },
  {
   "cell_type": "code",
   "execution_count": 53,
   "metadata": {
    "_uuid": "57840ea65824a0817e7149f50a8a1e2072f343d9"
   },
   "outputs": [],
   "source": [
    "# df_gen_train_imgs = [preprocess_input(img) for img in df_gen_train_imgs]"
   ]
  },
  {
   "cell_type": "code",
   "execution_count": 54,
   "metadata": {
    "_uuid": "4e2216ea79ffbe79643df9bbe76e450aeb211ae6"
   },
   "outputs": [],
   "source": [
    "# df_gen_train_imgs = df_gen_train_imgs[:25000]"
   ]
  },
  {
   "cell_type": "code",
   "execution_count": 55,
   "metadata": {
    "_uuid": "412f0174b0ca266a693b25b3a224428c9d7cfdc7"
   },
   "outputs": [],
   "source": [
    "# df_gen_train_imgs = np.array(df_gen_train_imgs)"
   ]
  },
  {
   "cell_type": "code",
   "execution_count": 56,
   "metadata": {
    "_uuid": "e622a6b767581353736dbe97ccce499968a8c02d"
   },
   "outputs": [],
   "source": [
    "# df_gen_val_imgs = np.array(df_gen_val_imgs)"
   ]
  },
  {
   "cell_type": "code",
   "execution_count": 57,
   "metadata": {
    "_uuid": "866ef46ebfbd1fd8bfb0f8935839414c60226862"
   },
   "outputs": [],
   "source": [
    "# model.fit(df_gen_train_imgs,df_gen_train.label.iloc[:25000],batch_size=128,epochs=42,validation_data=(df_gen_val_imgs,df_gen_val.label))"
   ]
  },
  {
   "cell_type": "code",
   "execution_count": 58,
   "metadata": {
    "_uuid": "db4cc33941b1457a14fda5c793b8fd8d3434cd2d"
   },
   "outputs": [],
   "source": [
    "# y_train = []\n",
    "# for img_path in df_gen_train:\n",
    "#     y_train.append(id_label_mapping[get_id_from_path(img_path)])"
   ]
  },
  {
   "cell_type": "code",
   "execution_count": 59,
   "metadata": {
    "_uuid": "7b24cb9147ef6a84022b072ce167c1cc79a2e6b9"
   },
   "outputs": [],
   "source": [
    "# y_test = []\n",
    "# for img_path in df_gen_val:\n",
    "#     y_test.append(id_label_mapping[get_id_from_path(img_path)])"
   ]
  },
  {
   "cell_type": "code",
   "execution_count": 60,
   "metadata": {
    "_uuid": "b70408eceaafc1eedc5d42bbea6f99b65fd76241"
   },
   "outputs": [],
   "source": [
    "# pred = (model.predict(df_test).ravel()*model.predict(df_test[:,::-1,:,:]).ravel()*model.predict(df_test[:,:,::-1,:]).ravel()*model.predict(df_test[:,::-1,::-1,:]).ravel())**0.25"
   ]
  },
  {
   "cell_type": "code",
   "execution_count": 61,
   "metadata": {
    "_uuid": "0c5fb5625534394e4cf76e3655ec4e910a7c22b7"
   },
   "outputs": [],
   "source": [
    "# pd.DataFrame({''})"
   ]
  },
  {
   "cell_type": "code",
   "execution_count": 62,
   "metadata": {
    "_uuid": "5e97de1fbd810ca77c82c70bd946a41e04876341"
   },
   "outputs": [],
   "source": [
    "# test_id = []\n",
    "# for img_path in df_test_paths:\n",
    "#     test_id.append(get_id_from_path(img_path))"
   ]
  },
  {
   "cell_type": "code",
   "execution_count": 63,
   "metadata": {
    "_uuid": "531d0fddd54698cfddda24564e9944f68b91cbd0"
   },
   "outputs": [],
   "source": []
  },
  {
   "cell_type": "code",
   "execution_count": 63,
   "metadata": {
    "_uuid": "11070f45d8ecde86e7a684e97470e685b8d1d4af"
   },
   "outputs": [],
   "source": [
    "sub = pd.DataFrame({'id':ids,'label':preds})"
   ]
  },
  {
   "cell_type": "code",
   "execution_count": 64,
   "metadata": {
    "_uuid": "59260d129f02ea4886c735481b5d7e2a28aa2666"
   },
   "outputs": [],
   "source": [
    "sub.to_csv('sub.csv',index=False)"
   ]
  },
  {
   "cell_type": "code",
   "execution_count": 65,
   "metadata": {
    "_uuid": "3a3fb05366656fddfc4648dd95ffbcd7f2ddccd6"
   },
   "outputs": [
    {
     "data": {
      "text/plain": [
       "[0.263716213101558, 0.8899519790454016, 0.9338264928846615]"
      ]
     },
     "execution_count": 65,
     "metadata": {},
     "output_type": "execute_result"
    }
   ],
   "source": [
    "model.evaluate_generator(data_gen(df_gen_val,id_label_mapping,batch_size=64),len(df_gen_val)//64)"
   ]
  },
  {
   "cell_type": "code",
   "execution_count": 66,
   "metadata": {
    "_uuid": "3ca2a176f2160b172350eab8b05c80bf69475f1c"
   },
   "outputs": [],
   "source": []
  },
  {
   "cell_type": "code",
   "execution_count": 66,
   "metadata": {
    "_uuid": "3f72b2b87382447c5adcdd2d2c2db348118d1bbd"
   },
   "outputs": [],
   "source": []
  },
  {
   "cell_type": "code",
   "execution_count": 66,
   "metadata": {
    "_uuid": "c772e4f6509460b0fbf70e3d16cda06a9f26174e"
   },
   "outputs": [],
   "source": []
  }
 ],
 "metadata": {
  "kernelspec": {
   "display_name": "Python 3",
   "language": "python",
   "name": "python3"
  },
  "language_info": {
   "codemirror_mode": {
    "name": "ipython",
    "version": 3
   },
   "file_extension": ".py",
   "mimetype": "text/x-python",
   "name": "python",
   "nbconvert_exporter": "python",
   "pygments_lexer": "ipython3",
   "version": "3.6.6"
  }
 },
 "nbformat": 4,
 "nbformat_minor": 1
}
